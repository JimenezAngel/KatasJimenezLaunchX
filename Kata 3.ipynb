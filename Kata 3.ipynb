{
 "cells": [
  {
   "cell_type": "code",
   "execution_count": 12,
   "metadata": {},
   "outputs": [
    {
     "name": "stdout",
     "output_type": "stream",
     "text": [
      "ADVERTENCIA PELIGRO INMINENTE\n"
     ]
    }
   ],
   "source": [
    "Speed = 40\n",
    "\n",
    "if (Speed > 25):\n",
    "    print (\"ADVERTENCIA PELIGRO INMINENTE\")\n",
    "\n",
    "elif (Speed <= 25):\n",
    "    print (\"Todo OK\")"
   ]
  },
  {
   "cell_type": "code",
   "execution_count": 3,
   "metadata": {},
   "outputs": [
    {
     "name": "stdout",
     "output_type": "stream",
     "text": [
      "Que ves? Siguele caminando\n"
     ]
    }
   ],
   "source": [
    "Speed = 18\n",
    "if Speed > 20:\n",
    "    print (\"Busca una luz en el cielo\")\n",
    "\n",
    "elif Speed == 20:\n",
    "    print (\"Busca una luz en el cielo\")\n",
    "\n",
    "else:\n",
    "    print (\"Que ves? Siguele caminando\")"
   ]
  },
  {
   "cell_type": "code",
   "execution_count": 11,
   "metadata": {},
   "outputs": [
    {
     "name": "stdout",
     "output_type": "stream",
     "text": [
      "Vamos por unos churrumais\n"
     ]
    }
   ],
   "source": [
    "Velocidad = 0\n",
    "diametro_asteroide = 25\n",
    "\n",
    "if Velocidad > 25 and diametro_asteroide > 25:\n",
    "    print (\"Alerta, peligro inminente.\")\n",
    "    print (\"Asteroide muy peligroso se aproxima hacia la tierra\")\n",
    "\n",
    "elif Velocidad >= 20:\n",
    "    print (\"Busca una luz en el cielo\")\n",
    "elif diametro_asteroide < 25:\n",
    "    print (\"Que ves? Siguele caminando\")\n",
    "else:\n",
    "    print (\"Vamos por unos churrumais\")"
   ]
  }
 ],
 "metadata": {
  "interpreter": {
   "hash": "01f01e3ccae9aa418ec44951303a42159ffbc23b0c40c76950fb03b92ff228c0"
  },
  "kernelspec": {
   "display_name": "Python 3.10.2 64-bit",
   "language": "python",
   "name": "python3"
  },
  "language_info": {
   "codemirror_mode": {
    "name": "ipython",
    "version": 3
   },
   "file_extension": ".py",
   "mimetype": "text/x-python",
   "name": "python",
   "nbconvert_exporter": "python",
   "pygments_lexer": "ipython3",
   "version": "3.10.2"
  },
  "orig_nbformat": 4
 },
 "nbformat": 4,
 "nbformat_minor": 2
}
