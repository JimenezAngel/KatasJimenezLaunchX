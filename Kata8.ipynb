{
 "cells": [
  {
   "cell_type": "markdown",
   "metadata": {},
   "source": [
    "## Ejercicio 1"
   ]
  },
  {
   "cell_type": "code",
   "execution_count": 8,
   "metadata": {},
   "outputs": [
    {
     "name": "stdout",
     "output_type": "stream",
     "text": [
      "Marte tiene 2 lunas\n",
      "Marte tiene una circunferencia polar de 6752\n"
     ]
    }
   ],
   "source": [
    "datos_Marte = {\n",
    "    \"name\" : \"Marte\",\n",
    "    \"moons\" : 2,\n",
    "}\n",
    "\n",
    "print (f'{datos_Marte[\"name\"]} tiene {datos_Marte[\"moons\"]} lunas')\n",
    "\n",
    "datos_Marte['circunference (km)'] = {\n",
    "    \"polar\" : 6752,\n",
    "    \"equatorial\" : 6792\n",
    "}\n",
    "\n",
    "print (f'{datos_Marte[\"name\"]} tiene una circunferencia polar de {datos_Marte[\"circunference (km)\"][\"polar\"]}')\n"
   ]
  },
  {
   "cell_type": "markdown",
   "metadata": {},
   "source": [
    "## Ejercicio 2"
   ]
  },
  {
   "cell_type": "code",
   "execution_count": 17,
   "metadata": {},
   "outputs": [
    {
     "name": "stdout",
     "output_type": "stream",
     "text": [
      "{'Mercurio': 0, 'Venus': 0, 'Tierra': 1, 'Marte': 2, 'Jupiter': 79, 'Saturno': 82, 'Urano': 27, 'Neptuno': 14, 'Pluton': 5, 'Haumea': 2, 'Eris': 1}\n",
      "0\n",
      "0\n",
      "1\n",
      "3\n",
      "82\n",
      "164\n",
      "191\n",
      "205\n",
      "210\n",
      "212\n",
      "213\n",
      "213/11= 19.363636363636363\n"
     ]
    }
   ],
   "source": [
    "planet_moons = {\n",
    "    \"Mercurio\" : 0,\n",
    "    \"Venus\"    : 0,\n",
    "    \"Tierra\"   : 1,\n",
    "    \"Marte\"    : 2,\n",
    "    \"Jupiter\"  : 79,\n",
    "    \"Saturno\"  : 82,\n",
    "    \"Urano\"    : 27,\n",
    "    \"Neptuno\"  : 14,\n",
    "    \"Pluton\"   : 5,\n",
    "    \"Haumea\"   : 2,\n",
    "    \"Eris\"     : 1,\n",
    "}\n",
    "\n",
    "print (planet_moons)\n",
    "\n",
    "moons = planet_moons.values()\n",
    "\n",
    "planets = len(planet_moons.keys())\n",
    "\n",
    "total_moons = 0\n",
    "for moon in moons:\n",
    "    total_moons = total_moons + moon\n",
    "\n",
    "    print (total_moons)\n",
    "\n",
    "average = total_moons/planets\n",
    "print (\"213/11=\", average\n",
    ")"
   ]
  }
 ],
 "metadata": {
  "interpreter": {
   "hash": "01f01e3ccae9aa418ec44951303a42159ffbc23b0c40c76950fb03b92ff228c0"
  },
  "kernelspec": {
   "display_name": "Python 3.10.2 64-bit",
   "language": "python",
   "name": "python3"
  },
  "language_info": {
   "codemirror_mode": {
    "name": "ipython",
    "version": 3
   },
   "file_extension": ".py",
   "mimetype": "text/x-python",
   "name": "python",
   "nbconvert_exporter": "python",
   "pygments_lexer": "ipython3",
   "version": "3.10.2"
  },
  "orig_nbformat": 4
 },
 "nbformat": 4,
 "nbformat_minor": 2
}
