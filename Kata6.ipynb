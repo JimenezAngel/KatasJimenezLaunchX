{
 "cells": [
  {
   "cell_type": "code",
   "execution_count": 8,
   "metadata": {},
   "outputs": [
    {
     "name": "stdout",
     "output_type": "stream",
     "text": [
      "Estos planetas son mas cercanos al sol que Neptuno\n",
      "['Mercurio', 'Venus', 'Marte', 'Tierra', 'Jupiter', 'Saturno']\n",
      "Estos son los planetas mas alejados del sol que Neptuno\n",
      "[]\n"
     ]
    }
   ],
   "source": [
    "planetas =[\"Mercurio\", \"Venus\", \"Marte\", \"Tierra\", \"Jupiter\", \"Saturno\", \"Neptuno\"]\n",
    "\n",
    "definir_planeta = input (\"Introducir nombre del planeta, primera letra en Mayuscula\")\n",
    "\n",
    "buscar_planeta = planetas.index (definir_planeta)\n",
    "\n",
    "print (\"Estos planetas son mas cercanos al sol que\", definir_planeta)\n",
    "print(planetas[0:buscar_planeta])\n",
    "\n",
    "print (\"Estos son los planetas mas alejados del sol que\", definir_planeta)\n",
    "print(planetas[buscar_planeta + 1:])"
   ]
  }
 ],
 "metadata": {
  "interpreter": {
   "hash": "01f01e3ccae9aa418ec44951303a42159ffbc23b0c40c76950fb03b92ff228c0"
  },
  "kernelspec": {
   "display_name": "Python 3.10.2 64-bit",
   "language": "python",
   "name": "python3"
  },
  "language_info": {
   "codemirror_mode": {
    "name": "ipython",
    "version": 3
   },
   "file_extension": ".py",
   "mimetype": "text/x-python",
   "name": "python",
   "nbconvert_exporter": "python",
   "pygments_lexer": "ipython3",
   "version": "3.10.2"
  },
  "orig_nbformat": 4
 },
 "nbformat": 4,
 "nbformat_minor": 2
}
