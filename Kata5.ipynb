{
 "cells": [
  {
   "cell_type": "markdown",
   "metadata": {},
   "source": [
    "## Ejercicio 1\n"
   ]
  },
  {
   "cell_type": "code",
   "execution_count": 6,
   "metadata": {},
   "outputs": [
    {
     "name": "stdout",
     "output_type": "stream",
     "text": [
      "Distancia entre Jupiter y Tierra:  628949330 Km\n",
      "En millas:  390577533.93 Miles\n"
     ]
    }
   ],
   "source": [
    "distance_earth_sun = (149597870)\n",
    "distance_jupiter_sun = (778547200)\n",
    "\n",
    "distance_eq_KM = (distance_jupiter_sun - distance_earth_sun)\n",
    "\n",
    "distance_eq_Mi = distance_eq_KM * 0.621\n",
    "\n",
    "print (\"Distancia entre Jupiter y Tierra: \", (distance_eq_KM), \"Km\")\n",
    "print (\"En millas: \", (distance_eq_Mi), \"Miles\")"
   ]
  },
  {
   "cell_type": "markdown",
   "metadata": {},
   "source": [
    "## Ejercicio 2\n"
   ]
  },
  {
   "cell_type": "code",
   "execution_count": 5,
   "metadata": {},
   "outputs": [
    {
     "name": "stdout",
     "output_type": "stream",
     "text": [
      "Distancia entre  Neptuno  y  Tierra  (Km):\n",
      "4345500000\n",
      "En millas:\n",
      "2698555500.0\n"
     ]
    }
   ],
   "source": [
    "\n",
    "Mercurio = 57900000          \n",
    "Venus    = 108200000         \n",
    "Tierra   = 149600000         \n",
    "Marte    = 227900000         \n",
    "Júpiter  = 778600000         \n",
    "Saturno  = 1433500000        \n",
    "Urano    = 2872500000        \n",
    "Neptuno  = 4495100000\n",
    "\n",
    "\n",
    "\n",
    "name_first_planet = input(\"Primer planeta: \")\n",
    "distance_first_planet_sun = input (\"Introdusca distancia del primer planeta al sol (Km)\")\n",
    "name_second_planet = input(\"Segundo planeta\")\n",
    "distance_second_planet_sun = input (\"Instrodusca distancia del segundo planeta al sol (Km)\")\n",
    "\n",
    "distance_first_planet_sun = int(distance_first_planet_sun)\n",
    "distance_second_planet_sun = int(distance_second_planet_sun)\n",
    "\n",
    "distance_eq_Km = distance_second_planet_sun-distance_first_planet_sun\n",
    "distance_eq_MI = (distance_eq_Km) * 0.621\n",
    "\n",
    "print (\"Distancia entre \", name_first_planet, \" y \", name_second_planet,  \" (Km):\")\n",
    "print (abs(distance_eq_Km))\n",
    "print (\"En millas:\")\n",
    "print (abs(distance_eq_MI))\n",
    "\n",
    "\n",
    "\n"
   ]
  }
 ],
 "metadata": {
  "interpreter": {
   "hash": "01f01e3ccae9aa418ec44951303a42159ffbc23b0c40c76950fb03b92ff228c0"
  },
  "kernelspec": {
   "display_name": "Python 3.10.2 64-bit",
   "language": "python",
   "name": "python3"
  },
  "language_info": {
   "codemirror_mode": {
    "name": "ipython",
    "version": 3
   },
   "file_extension": ".py",
   "mimetype": "text/x-python",
   "name": "python",
   "nbconvert_exporter": "python",
   "pygments_lexer": "ipython3",
   "version": "3.10.2"
  },
  "orig_nbformat": 4
 },
 "nbformat": 4,
 "nbformat_minor": 2
}
