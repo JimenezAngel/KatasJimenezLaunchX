{
 "cells": [
  {
   "cell_type": "markdown",
   "metadata": {},
   "source": [
    "## Ejercicio 1"
   ]
  },
  {
   "cell_type": "code",
   "execution_count": 22,
   "metadata": {},
   "outputs": [
    {
     "name": "stdout",
     "output_type": "stream",
     "text": [
      "Fuel Report:\n",
      "    \n",
      "    Tanque A: 80%\n",
      "    Tanque B: 85%\n",
      "    Tanque C: 81%\n",
      "    Total Prom: 82.0%\n",
      "    \n"
     ]
    },
    {
     "data": {
      "text/plain": [
       "82.0"
      ]
     },
     "execution_count": 22,
     "metadata": {},
     "output_type": "execute_result"
    }
   ],
   "source": [
    "def generate_report(tanque_a, tanque_b, tanque_c):\n",
    "    \n",
    "    prom = (tanque_a + tanque_b + tanque_c)/3\n",
    "\n",
    "    return f\"\"\"Fuel Report:\n",
    "    \n",
    "    Tanque A: {tanque_a}%\n",
    "    Tanque B: {tanque_b}%\n",
    "    Tanque C: {tanque_c}%\n",
    "    Total Prom: {prom}%\n",
    "    \"\"\"\n",
    "\n",
    "print (generate_report(80, 85, 81))\n",
    "\n",
    "def prom(values):\n",
    "    total = sum(values)\n",
    "    number_items = len(values)\n",
    "    return total/number_items\n",
    "\n",
    "prom([80, 85, 81])\n",
    "\n",
    "\n"
   ]
  },
  {
   "cell_type": "code",
   "execution_count": 25,
   "metadata": {},
   "outputs": [
    {
     "name": "stdout",
     "output_type": "stream",
     "text": [
      "Fuel Report:\n",
      "    \n",
      "    Tanque A: 100%\n",
      "    Tanque B: 100%\n",
      "    Tanque C: 100%\n",
      "    Total Prom: 100.0%\n",
      "    \n"
     ]
    }
   ],
   "source": [
    "def generate_report(tanque_a, tanque_b, tanque_c):\n",
    "    \n",
    "\n",
    "    return f\"\"\"Fuel Report:\n",
    "    \n",
    "    Tanque A: {tanque_a}%\n",
    "    Tanque B: {tanque_b}%\n",
    "    Tanque C: {tanque_c}%\n",
    "    Total Prom: {prom([tanque_a, tanque_b, tanque_c])}%\n",
    "    \"\"\"\n",
    "\n",
    "print (generate_report(100, 100, 100))"
   ]
  },
  {
   "cell_type": "markdown",
   "metadata": {},
   "source": [
    "## Ejercicio 2"
   ]
  },
  {
   "cell_type": "code",
   "execution_count": 28,
   "metadata": {},
   "outputs": [
    {
     "name": "stdout",
     "output_type": "stream",
     "text": [
      "\n",
      "    Mission to Moon\n",
      "    Total travel time: 30 minutes\n",
      "    Total fuel left: 54700 gallons\n",
      "    \n"
     ]
    }
   ],
   "source": [
    "def mission_report(pre_launch_time, flight_time, destination, external_tank, main_tank):\n",
    "    return f\"\"\"\n",
    "    Mission to {destination}\n",
    "    Total travel time: {pre_launch_time + flight_time} minutes\n",
    "    Total fuel left: {external_tank + main_tank} gallons\n",
    "    \"\"\"\n",
    "\n",
    "print (mission_report (20, 10, \"Moon\", 54000, 700))"
   ]
  }
 ],
 "metadata": {
  "language_info": {
   "name": "python"
  },
  "orig_nbformat": 4
 },
 "nbformat": 4,
 "nbformat_minor": 2
}
